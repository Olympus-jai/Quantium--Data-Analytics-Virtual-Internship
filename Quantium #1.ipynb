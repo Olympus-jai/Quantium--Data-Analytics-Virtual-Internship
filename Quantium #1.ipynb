{
 "cells": [
  {
   "cell_type": "raw",
   "id": "63662f53",
   "metadata": {},
   "source": [
    "Quantium Data Analytics Virtual Internship"
   ]
  },
  {
   "cell_type": "code",
   "execution_count": 1,
   "id": "8f919096",
   "metadata": {},
   "outputs": [],
   "source": [
    "#import Necessary Libraries"
   ]
  },
  {
   "cell_type": "code",
   "execution_count": 1,
   "id": "b81802c3",
   "metadata": {},
   "outputs": [],
   "source": [
    "import pandas as pd\n",
    "import numpy as np\n",
    "import seaborn as sns\n",
    "import matplotlib.pyplot as plt"
   ]
  },
  {
   "cell_type": "code",
   "execution_count": 2,
   "id": "d1125352",
   "metadata": {},
   "outputs": [],
   "source": [
    "# Read Two Files into dataframe\n",
    "df_pb=pd.read_csv(\"D:\\\\Projects\\\\Quantium\\\\QVI_purchase_behaviour.csv\")\n",
    "df_td=pd.read_excel(\"D:\\\\Projects\\\\Quantium\\\\QVI_transaction_data.xlsx\")"
   ]
  },
  {
   "cell_type": "code",
   "execution_count": 3,
   "id": "6474a6d7",
   "metadata": {},
   "outputs": [],
   "source": [
    "# Convert DATE Format"
   ]
  },
  {
   "cell_type": "code",
   "execution_count": 4,
   "id": "a40e6d2d",
   "metadata": {},
   "outputs": [],
   "source": [
    "df_td['DATE'] = pd.to_datetime(df_td['DATE'],unit='D', origin='1899-12-30')"
   ]
  },
  {
   "cell_type": "code",
   "execution_count": 5,
   "id": "5ab5531a",
   "metadata": {
    "scrolled": true
   },
   "outputs": [
    {
     "data": {
      "text/html": [
       "<div>\n",
       "<style scoped>\n",
       "    .dataframe tbody tr th:only-of-type {\n",
       "        vertical-align: middle;\n",
       "    }\n",
       "\n",
       "    .dataframe tbody tr th {\n",
       "        vertical-align: top;\n",
       "    }\n",
       "\n",
       "    .dataframe thead th {\n",
       "        text-align: right;\n",
       "    }\n",
       "</style>\n",
       "<table border=\"1\" class=\"dataframe\">\n",
       "  <thead>\n",
       "    <tr style=\"text-align: right;\">\n",
       "      <th></th>\n",
       "      <th>DATE</th>\n",
       "      <th>STORE_NBR</th>\n",
       "      <th>LYLTY_CARD_NBR</th>\n",
       "      <th>TXN_ID</th>\n",
       "      <th>PROD_NBR</th>\n",
       "      <th>PROD_NAME</th>\n",
       "      <th>PROD_QTY</th>\n",
       "      <th>TOT_SALES</th>\n",
       "    </tr>\n",
       "  </thead>\n",
       "  <tbody>\n",
       "    <tr>\n",
       "      <th>0</th>\n",
       "      <td>2018-10-17</td>\n",
       "      <td>1</td>\n",
       "      <td>1000</td>\n",
       "      <td>1</td>\n",
       "      <td>5</td>\n",
       "      <td>Natural Chip        Compny SeaSalt175g</td>\n",
       "      <td>2</td>\n",
       "      <td>6.0</td>\n",
       "    </tr>\n",
       "    <tr>\n",
       "      <th>1</th>\n",
       "      <td>2019-05-14</td>\n",
       "      <td>1</td>\n",
       "      <td>1307</td>\n",
       "      <td>348</td>\n",
       "      <td>66</td>\n",
       "      <td>CCs Nacho Cheese    175g</td>\n",
       "      <td>3</td>\n",
       "      <td>6.3</td>\n",
       "    </tr>\n",
       "    <tr>\n",
       "      <th>2</th>\n",
       "      <td>2019-05-20</td>\n",
       "      <td>1</td>\n",
       "      <td>1343</td>\n",
       "      <td>383</td>\n",
       "      <td>61</td>\n",
       "      <td>Smiths Crinkle Cut  Chips Chicken 170g</td>\n",
       "      <td>2</td>\n",
       "      <td>2.9</td>\n",
       "    </tr>\n",
       "    <tr>\n",
       "      <th>3</th>\n",
       "      <td>2018-08-17</td>\n",
       "      <td>2</td>\n",
       "      <td>2373</td>\n",
       "      <td>974</td>\n",
       "      <td>69</td>\n",
       "      <td>Smiths Chip Thinly  S/Cream&amp;Onion 175g</td>\n",
       "      <td>5</td>\n",
       "      <td>15.0</td>\n",
       "    </tr>\n",
       "  </tbody>\n",
       "</table>\n",
       "</div>"
      ],
      "text/plain": [
       "        DATE  STORE_NBR  LYLTY_CARD_NBR  TXN_ID  PROD_NBR   \n",
       "0 2018-10-17          1            1000       1         5  \\\n",
       "1 2019-05-14          1            1307     348        66   \n",
       "2 2019-05-20          1            1343     383        61   \n",
       "3 2018-08-17          2            2373     974        69   \n",
       "\n",
       "                                PROD_NAME  PROD_QTY  TOT_SALES  \n",
       "0  Natural Chip        Compny SeaSalt175g         2        6.0  \n",
       "1                CCs Nacho Cheese    175g         3        6.3  \n",
       "2  Smiths Crinkle Cut  Chips Chicken 170g         2        2.9  \n",
       "3  Smiths Chip Thinly  S/Cream&Onion 175g         5       15.0  "
      ]
     },
     "execution_count": 5,
     "metadata": {},
     "output_type": "execute_result"
    }
   ],
   "source": [
    "df_td.head(4)"
   ]
  },
  {
   "cell_type": "code",
   "execution_count": 6,
   "id": "09fef049",
   "metadata": {},
   "outputs": [],
   "source": [
    "#Clean the data and add columns\n",
    "df_td['PROD_SIZE'] = df_td['PROD_NAME'].str.extract(r'(\\d+g)')\n",
    "df_td['PROD_NAME'] = df_td['PROD_NAME'].str[:-1 * len(df_td['PROD_SIZE'][0])]\n",
    "df_td['PROD_SIZE'] = df_td['PROD_SIZE'].str[:-1 * 1 ]"
   ]
  },
  {
   "cell_type": "code",
   "execution_count": 7,
   "id": "37e90ff7",
   "metadata": {},
   "outputs": [],
   "source": [
    "df_td['PROD_NAME']=df_td['PROD_NAME'].str.strip()\n",
    "df_td['BRAND'] = df_td['PROD_NAME'].str.split().str[0]"
   ]
  },
  {
   "cell_type": "code",
   "execution_count": 8,
   "id": "72ef16f3",
   "metadata": {},
   "outputs": [
    {
     "data": {
      "text/html": [
       "<div>\n",
       "<style scoped>\n",
       "    .dataframe tbody tr th:only-of-type {\n",
       "        vertical-align: middle;\n",
       "    }\n",
       "\n",
       "    .dataframe tbody tr th {\n",
       "        vertical-align: top;\n",
       "    }\n",
       "\n",
       "    .dataframe thead th {\n",
       "        text-align: right;\n",
       "    }\n",
       "</style>\n",
       "<table border=\"1\" class=\"dataframe\">\n",
       "  <thead>\n",
       "    <tr style=\"text-align: right;\">\n",
       "      <th></th>\n",
       "      <th>DATE</th>\n",
       "      <th>STORE_NBR</th>\n",
       "      <th>LYLTY_CARD_NBR</th>\n",
       "      <th>TXN_ID</th>\n",
       "      <th>PROD_NBR</th>\n",
       "      <th>PROD_NAME</th>\n",
       "      <th>PROD_QTY</th>\n",
       "      <th>TOT_SALES</th>\n",
       "      <th>PROD_SIZE</th>\n",
       "      <th>BRAND</th>\n",
       "    </tr>\n",
       "  </thead>\n",
       "  <tbody>\n",
       "    <tr>\n",
       "      <th>0</th>\n",
       "      <td>2018-10-17</td>\n",
       "      <td>1</td>\n",
       "      <td>1000</td>\n",
       "      <td>1</td>\n",
       "      <td>5</td>\n",
       "      <td>Natural Chip        Compny SeaSalt</td>\n",
       "      <td>2</td>\n",
       "      <td>6.0</td>\n",
       "      <td>175</td>\n",
       "      <td>Natural</td>\n",
       "    </tr>\n",
       "    <tr>\n",
       "      <th>1</th>\n",
       "      <td>2019-05-14</td>\n",
       "      <td>1</td>\n",
       "      <td>1307</td>\n",
       "      <td>348</td>\n",
       "      <td>66</td>\n",
       "      <td>CCs Nacho Cheese</td>\n",
       "      <td>3</td>\n",
       "      <td>6.3</td>\n",
       "      <td>175</td>\n",
       "      <td>CCs</td>\n",
       "    </tr>\n",
       "    <tr>\n",
       "      <th>2</th>\n",
       "      <td>2019-05-20</td>\n",
       "      <td>1</td>\n",
       "      <td>1343</td>\n",
       "      <td>383</td>\n",
       "      <td>61</td>\n",
       "      <td>Smiths Crinkle Cut  Chips Chicken</td>\n",
       "      <td>2</td>\n",
       "      <td>2.9</td>\n",
       "      <td>170</td>\n",
       "      <td>Smiths</td>\n",
       "    </tr>\n",
       "    <tr>\n",
       "      <th>3</th>\n",
       "      <td>2018-08-17</td>\n",
       "      <td>2</td>\n",
       "      <td>2373</td>\n",
       "      <td>974</td>\n",
       "      <td>69</td>\n",
       "      <td>Smiths Chip Thinly  S/Cream&amp;Onion</td>\n",
       "      <td>5</td>\n",
       "      <td>15.0</td>\n",
       "      <td>175</td>\n",
       "      <td>Smiths</td>\n",
       "    </tr>\n",
       "    <tr>\n",
       "      <th>4</th>\n",
       "      <td>2018-08-18</td>\n",
       "      <td>2</td>\n",
       "      <td>2426</td>\n",
       "      <td>1038</td>\n",
       "      <td>108</td>\n",
       "      <td>Kettle Tortilla ChpsHny&amp;Jlpno Chili</td>\n",
       "      <td>3</td>\n",
       "      <td>13.8</td>\n",
       "      <td>150</td>\n",
       "      <td>Kettle</td>\n",
       "    </tr>\n",
       "  </tbody>\n",
       "</table>\n",
       "</div>"
      ],
      "text/plain": [
       "        DATE  STORE_NBR  LYLTY_CARD_NBR  TXN_ID  PROD_NBR   \n",
       "0 2018-10-17          1            1000       1         5  \\\n",
       "1 2019-05-14          1            1307     348        66   \n",
       "2 2019-05-20          1            1343     383        61   \n",
       "3 2018-08-17          2            2373     974        69   \n",
       "4 2018-08-18          2            2426    1038       108   \n",
       "\n",
       "                             PROD_NAME  PROD_QTY  TOT_SALES PROD_SIZE    BRAND  \n",
       "0   Natural Chip        Compny SeaSalt         2        6.0       175  Natural  \n",
       "1                     CCs Nacho Cheese         3        6.3       175      CCs  \n",
       "2    Smiths Crinkle Cut  Chips Chicken         2        2.9       170   Smiths  \n",
       "3    Smiths Chip Thinly  S/Cream&Onion         5       15.0       175   Smiths  \n",
       "4  Kettle Tortilla ChpsHny&Jlpno Chili         3       13.8       150   Kettle  "
      ]
     },
     "execution_count": 8,
     "metadata": {},
     "output_type": "execute_result"
    }
   ],
   "source": [
    "df_td.head()"
   ]
  },
  {
   "cell_type": "code",
   "execution_count": 9,
   "id": "ebed12b9",
   "metadata": {},
   "outputs": [],
   "source": [
    "df_td['PROD_SIZE'] = pd.to_numeric(df_td['PROD_SIZE'])"
   ]
  },
  {
   "cell_type": "code",
   "execution_count": 10,
   "id": "30206f10",
   "metadata": {},
   "outputs": [
    {
     "name": "stdout",
     "output_type": "stream",
     "text": [
      "<class 'pandas.core.frame.DataFrame'>\n",
      "RangeIndex: 264836 entries, 0 to 264835\n",
      "Data columns (total 10 columns):\n",
      " #   Column          Non-Null Count   Dtype         \n",
      "---  ------          --------------   -----         \n",
      " 0   DATE            264836 non-null  datetime64[ns]\n",
      " 1   STORE_NBR       264836 non-null  int64         \n",
      " 2   LYLTY_CARD_NBR  264836 non-null  int64         \n",
      " 3   TXN_ID          264836 non-null  int64         \n",
      " 4   PROD_NBR        264836 non-null  int64         \n",
      " 5   PROD_NAME       264836 non-null  object        \n",
      " 6   PROD_QTY        264836 non-null  int64         \n",
      " 7   TOT_SALES       264836 non-null  float64       \n",
      " 8   PROD_SIZE       258772 non-null  float64       \n",
      " 9   BRAND           264836 non-null  object        \n",
      "dtypes: datetime64[ns](1), float64(2), int64(5), object(2)\n",
      "memory usage: 20.2+ MB\n"
     ]
    }
   ],
   "source": [
    "df_td.info()"
   ]
  },
  {
   "cell_type": "code",
   "execution_count": 11,
   "id": "776985ef",
   "metadata": {},
   "outputs": [
    {
     "name": "stdout",
     "output_type": "stream",
     "text": [
      "<class 'pandas.core.frame.DataFrame'>\n",
      "RangeIndex: 72637 entries, 0 to 72636\n",
      "Data columns (total 3 columns):\n",
      " #   Column            Non-Null Count  Dtype \n",
      "---  ------            --------------  ----- \n",
      " 0   LYLTY_CARD_NBR    72637 non-null  int64 \n",
      " 1   LIFESTAGE         72637 non-null  object\n",
      " 2   PREMIUM_CUSTOMER  72637 non-null  object\n",
      "dtypes: int64(1), object(2)\n",
      "memory usage: 1.7+ MB\n"
     ]
    }
   ],
   "source": [
    "df_pb.info()"
   ]
  },
  {
   "cell_type": "code",
   "execution_count": 12,
   "id": "2bd6a040",
   "metadata": {},
   "outputs": [
    {
     "data": {
      "text/html": [
       "<div>\n",
       "<style scoped>\n",
       "    .dataframe tbody tr th:only-of-type {\n",
       "        vertical-align: middle;\n",
       "    }\n",
       "\n",
       "    .dataframe tbody tr th {\n",
       "        vertical-align: top;\n",
       "    }\n",
       "\n",
       "    .dataframe thead th {\n",
       "        text-align: right;\n",
       "    }\n",
       "</style>\n",
       "<table border=\"1\" class=\"dataframe\">\n",
       "  <thead>\n",
       "    <tr style=\"text-align: right;\">\n",
       "      <th></th>\n",
       "      <th>LYLTY_CARD_NBR</th>\n",
       "    </tr>\n",
       "  </thead>\n",
       "  <tbody>\n",
       "    <tr>\n",
       "      <th>count</th>\n",
       "      <td>7.263700e+04</td>\n",
       "    </tr>\n",
       "    <tr>\n",
       "      <th>mean</th>\n",
       "      <td>1.361859e+05</td>\n",
       "    </tr>\n",
       "    <tr>\n",
       "      <th>std</th>\n",
       "      <td>8.989293e+04</td>\n",
       "    </tr>\n",
       "    <tr>\n",
       "      <th>min</th>\n",
       "      <td>1.000000e+03</td>\n",
       "    </tr>\n",
       "    <tr>\n",
       "      <th>25%</th>\n",
       "      <td>6.620200e+04</td>\n",
       "    </tr>\n",
       "    <tr>\n",
       "      <th>50%</th>\n",
       "      <td>1.340400e+05</td>\n",
       "    </tr>\n",
       "    <tr>\n",
       "      <th>75%</th>\n",
       "      <td>2.033750e+05</td>\n",
       "    </tr>\n",
       "    <tr>\n",
       "      <th>max</th>\n",
       "      <td>2.373711e+06</td>\n",
       "    </tr>\n",
       "  </tbody>\n",
       "</table>\n",
       "</div>"
      ],
      "text/plain": [
       "       LYLTY_CARD_NBR\n",
       "count    7.263700e+04\n",
       "mean     1.361859e+05\n",
       "std      8.989293e+04\n",
       "min      1.000000e+03\n",
       "25%      6.620200e+04\n",
       "50%      1.340400e+05\n",
       "75%      2.033750e+05\n",
       "max      2.373711e+06"
      ]
     },
     "execution_count": 12,
     "metadata": {},
     "output_type": "execute_result"
    }
   ],
   "source": [
    "df_pb.describe()"
   ]
  },
  {
   "cell_type": "code",
   "execution_count": 13,
   "id": "b9456a24",
   "metadata": {},
   "outputs": [
    {
     "data": {
      "text/html": [
       "<div>\n",
       "<style scoped>\n",
       "    .dataframe tbody tr th:only-of-type {\n",
       "        vertical-align: middle;\n",
       "    }\n",
       "\n",
       "    .dataframe tbody tr th {\n",
       "        vertical-align: top;\n",
       "    }\n",
       "\n",
       "    .dataframe thead th {\n",
       "        text-align: right;\n",
       "    }\n",
       "</style>\n",
       "<table border=\"1\" class=\"dataframe\">\n",
       "  <thead>\n",
       "    <tr style=\"text-align: right;\">\n",
       "      <th></th>\n",
       "      <th>DATE</th>\n",
       "      <th>STORE_NBR</th>\n",
       "      <th>LYLTY_CARD_NBR</th>\n",
       "      <th>TXN_ID</th>\n",
       "      <th>PROD_NBR</th>\n",
       "      <th>PROD_QTY</th>\n",
       "      <th>TOT_SALES</th>\n",
       "      <th>PROD_SIZE</th>\n",
       "    </tr>\n",
       "  </thead>\n",
       "  <tbody>\n",
       "    <tr>\n",
       "      <th>count</th>\n",
       "      <td>264836</td>\n",
       "      <td>264836.00000</td>\n",
       "      <td>2.648360e+05</td>\n",
       "      <td>2.648360e+05</td>\n",
       "      <td>264836.000000</td>\n",
       "      <td>264836.000000</td>\n",
       "      <td>264836.000000</td>\n",
       "      <td>258772.000000</td>\n",
       "    </tr>\n",
       "    <tr>\n",
       "      <th>mean</th>\n",
       "      <td>2018-12-30 00:52:12.879215616</td>\n",
       "      <td>135.08011</td>\n",
       "      <td>1.355495e+05</td>\n",
       "      <td>1.351583e+05</td>\n",
       "      <td>56.583157</td>\n",
       "      <td>1.907309</td>\n",
       "      <td>7.304200</td>\n",
       "      <td>182.325804</td>\n",
       "    </tr>\n",
       "    <tr>\n",
       "      <th>min</th>\n",
       "      <td>2018-07-01 00:00:00</td>\n",
       "      <td>1.00000</td>\n",
       "      <td>1.000000e+03</td>\n",
       "      <td>1.000000e+00</td>\n",
       "      <td>1.000000</td>\n",
       "      <td>1.000000</td>\n",
       "      <td>1.500000</td>\n",
       "      <td>70.000000</td>\n",
       "    </tr>\n",
       "    <tr>\n",
       "      <th>25%</th>\n",
       "      <td>2018-09-30 00:00:00</td>\n",
       "      <td>70.00000</td>\n",
       "      <td>7.002100e+04</td>\n",
       "      <td>6.760150e+04</td>\n",
       "      <td>28.000000</td>\n",
       "      <td>2.000000</td>\n",
       "      <td>5.400000</td>\n",
       "      <td>150.000000</td>\n",
       "    </tr>\n",
       "    <tr>\n",
       "      <th>50%</th>\n",
       "      <td>2018-12-30 00:00:00</td>\n",
       "      <td>130.00000</td>\n",
       "      <td>1.303575e+05</td>\n",
       "      <td>1.351375e+05</td>\n",
       "      <td>56.000000</td>\n",
       "      <td>2.000000</td>\n",
       "      <td>7.400000</td>\n",
       "      <td>170.000000</td>\n",
       "    </tr>\n",
       "    <tr>\n",
       "      <th>75%</th>\n",
       "      <td>2019-03-31 00:00:00</td>\n",
       "      <td>203.00000</td>\n",
       "      <td>2.030942e+05</td>\n",
       "      <td>2.027012e+05</td>\n",
       "      <td>85.000000</td>\n",
       "      <td>2.000000</td>\n",
       "      <td>9.200000</td>\n",
       "      <td>175.000000</td>\n",
       "    </tr>\n",
       "    <tr>\n",
       "      <th>max</th>\n",
       "      <td>2019-06-30 00:00:00</td>\n",
       "      <td>272.00000</td>\n",
       "      <td>2.373711e+06</td>\n",
       "      <td>2.415841e+06</td>\n",
       "      <td>114.000000</td>\n",
       "      <td>200.000000</td>\n",
       "      <td>650.000000</td>\n",
       "      <td>380.000000</td>\n",
       "    </tr>\n",
       "    <tr>\n",
       "      <th>std</th>\n",
       "      <td>NaN</td>\n",
       "      <td>76.78418</td>\n",
       "      <td>8.057998e+04</td>\n",
       "      <td>7.813303e+04</td>\n",
       "      <td>32.826638</td>\n",
       "      <td>0.643654</td>\n",
       "      <td>3.083226</td>\n",
       "      <td>64.957108</td>\n",
       "    </tr>\n",
       "  </tbody>\n",
       "</table>\n",
       "</div>"
      ],
      "text/plain": [
       "                                DATE     STORE_NBR  LYLTY_CARD_NBR   \n",
       "count                         264836  264836.00000    2.648360e+05  \\\n",
       "mean   2018-12-30 00:52:12.879215616     135.08011    1.355495e+05   \n",
       "min              2018-07-01 00:00:00       1.00000    1.000000e+03   \n",
       "25%              2018-09-30 00:00:00      70.00000    7.002100e+04   \n",
       "50%              2018-12-30 00:00:00     130.00000    1.303575e+05   \n",
       "75%              2019-03-31 00:00:00     203.00000    2.030942e+05   \n",
       "max              2019-06-30 00:00:00     272.00000    2.373711e+06   \n",
       "std                              NaN      76.78418    8.057998e+04   \n",
       "\n",
       "             TXN_ID       PROD_NBR       PROD_QTY      TOT_SALES   \n",
       "count  2.648360e+05  264836.000000  264836.000000  264836.000000  \\\n",
       "mean   1.351583e+05      56.583157       1.907309       7.304200   \n",
       "min    1.000000e+00       1.000000       1.000000       1.500000   \n",
       "25%    6.760150e+04      28.000000       2.000000       5.400000   \n",
       "50%    1.351375e+05      56.000000       2.000000       7.400000   \n",
       "75%    2.027012e+05      85.000000       2.000000       9.200000   \n",
       "max    2.415841e+06     114.000000     200.000000     650.000000   \n",
       "std    7.813303e+04      32.826638       0.643654       3.083226   \n",
       "\n",
       "           PROD_SIZE  \n",
       "count  258772.000000  \n",
       "mean      182.325804  \n",
       "min        70.000000  \n",
       "25%       150.000000  \n",
       "50%       170.000000  \n",
       "75%       175.000000  \n",
       "max       380.000000  \n",
       "std        64.957108  "
      ]
     },
     "execution_count": 13,
     "metadata": {},
     "output_type": "execute_result"
    }
   ],
   "source": [
    "df_td.describe()"
   ]
  },
  {
   "cell_type": "code",
   "execution_count": 14,
   "id": "d7ffd882",
   "metadata": {},
   "outputs": [
    {
     "data": {
      "text/plain": [
       "DATE                 0\n",
       "STORE_NBR            0\n",
       "LYLTY_CARD_NBR       0\n",
       "TXN_ID               0\n",
       "PROD_NBR             0\n",
       "PROD_NAME            0\n",
       "PROD_QTY             0\n",
       "TOT_SALES            0\n",
       "PROD_SIZE         6064\n",
       "BRAND                0\n",
       "dtype: int64"
      ]
     },
     "execution_count": 14,
     "metadata": {},
     "output_type": "execute_result"
    }
   ],
   "source": [
    "df_td.isnull().sum()"
   ]
  },
  {
   "cell_type": "code",
   "execution_count": 15,
   "id": "8d262c74",
   "metadata": {},
   "outputs": [],
   "source": [
    "# Clean The dataset\n",
    "df_td.loc[df_td['BRAND'] == 'Dorito', 'BRAND'] = 'Doritos'\n",
    "df_td.loc[df_td['BRAND'] == 'Smith', 'BRAND'] = 'Smiths'\n",
    "df_td.loc[df_td['BRAND'] == 'Infzns', 'BRAND'] = 'Infuzions'\n",
    "df_td.loc[df_td['BRAND'] == 'Snbts', 'BRAND'] = 'Sunbites'\n",
    "\n",
    "df_td.loc[df_td['BRAND'] == 'RRD', 'BRAND'] = 'Red'\n",
    "df_td.loc[df_td['BRAND'] == 'NCC', 'BRAND'] = 'Natural'\n",
    "df_td.loc[df_td['BRAND'] == 'Old', 'BRAND'] = 'Old El Paso'"
   ]
  },
  {
   "cell_type": "code",
   "execution_count": 16,
   "id": "bce896c8",
   "metadata": {},
   "outputs": [
    {
     "data": {
      "text/html": [
       "<div>\n",
       "<style scoped>\n",
       "    .dataframe tbody tr th:only-of-type {\n",
       "        vertical-align: middle;\n",
       "    }\n",
       "\n",
       "    .dataframe tbody tr th {\n",
       "        vertical-align: top;\n",
       "    }\n",
       "\n",
       "    .dataframe thead th {\n",
       "        text-align: right;\n",
       "    }\n",
       "</style>\n",
       "<table border=\"1\" class=\"dataframe\">\n",
       "  <thead>\n",
       "    <tr style=\"text-align: right;\">\n",
       "      <th></th>\n",
       "      <th>Product_Quantity_Sum</th>\n",
       "      <th>Total_Sales_sum</th>\n",
       "      <th>PROD_SIZE_sum</th>\n",
       "    </tr>\n",
       "    <tr>\n",
       "      <th>BRAND</th>\n",
       "      <th></th>\n",
       "      <th></th>\n",
       "      <th></th>\n",
       "    </tr>\n",
       "  </thead>\n",
       "  <tbody>\n",
       "    <tr>\n",
       "      <th>Burger</th>\n",
       "      <td>2970</td>\n",
       "      <td>6831.0</td>\n",
       "      <td>344080.0</td>\n",
       "    </tr>\n",
       "    <tr>\n",
       "      <th>CCs</th>\n",
       "      <td>8609</td>\n",
       "      <td>18078.9</td>\n",
       "      <td>796425.0</td>\n",
       "    </tr>\n",
       "    <tr>\n",
       "      <th>Cheetos</th>\n",
       "      <td>5530</td>\n",
       "      <td>16884.5</td>\n",
       "      <td>519930.0</td>\n",
       "    </tr>\n",
       "    <tr>\n",
       "      <th>Cheezels</th>\n",
       "      <td>8747</td>\n",
       "      <td>40029.9</td>\n",
       "      <td>1220920.0</td>\n",
       "    </tr>\n",
       "    <tr>\n",
       "      <th>Cobs</th>\n",
       "      <td>18571</td>\n",
       "      <td>70569.8</td>\n",
       "      <td>1066230.0</td>\n",
       "    </tr>\n",
       "    <tr>\n",
       "      <th>Doritos</th>\n",
       "      <td>54216</td>\n",
       "      <td>241890.9</td>\n",
       "      <td>6194370.0</td>\n",
       "    </tr>\n",
       "    <tr>\n",
       "      <th>French</th>\n",
       "      <td>2643</td>\n",
       "      <td>7929.0</td>\n",
       "      <td>248150.0</td>\n",
       "    </tr>\n",
       "    <tr>\n",
       "      <th>Grain</th>\n",
       "      <td>11962</td>\n",
       "      <td>43048.8</td>\n",
       "      <td>665070.0</td>\n",
       "    </tr>\n",
       "    <tr>\n",
       "      <th>GrnWves</th>\n",
       "      <td>2764</td>\n",
       "      <td>8568.4</td>\n",
       "      <td>264240.0</td>\n",
       "    </tr>\n",
       "    <tr>\n",
       "      <th>Infuzions</th>\n",
       "      <td>27119</td>\n",
       "      <td>99047.6</td>\n",
       "      <td>1501830.0</td>\n",
       "    </tr>\n",
       "    <tr>\n",
       "      <th>Kettle</th>\n",
       "      <td>79051</td>\n",
       "      <td>390239.8</td>\n",
       "      <td>6619895.0</td>\n",
       "    </tr>\n",
       "    <tr>\n",
       "      <th>Natural</th>\n",
       "      <td>14106</td>\n",
       "      <td>42318.0</td>\n",
       "      <td>1307075.0</td>\n",
       "    </tr>\n",
       "    <tr>\n",
       "      <th>Old El Paso</th>\n",
       "      <td>17805</td>\n",
       "      <td>90785.1</td>\n",
       "      <td>2797200.0</td>\n",
       "    </tr>\n",
       "    <tr>\n",
       "      <th>Pringles</th>\n",
       "      <td>48019</td>\n",
       "      <td>177655.5</td>\n",
       "      <td>3363668.0</td>\n",
       "    </tr>\n",
       "    <tr>\n",
       "      <th>Red</th>\n",
       "      <td>33646</td>\n",
       "      <td>95046.0</td>\n",
       "      <td>2553255.0</td>\n",
       "    </tr>\n",
       "    <tr>\n",
       "      <th>Smiths</th>\n",
       "      <td>60339</td>\n",
       "      <td>224660.2</td>\n",
       "      <td>6737460.0</td>\n",
       "    </tr>\n",
       "    <tr>\n",
       "      <th>Sunbites</th>\n",
       "      <td>5692</td>\n",
       "      <td>9676.4</td>\n",
       "      <td>270720.0</td>\n",
       "    </tr>\n",
       "    <tr>\n",
       "      <th>Thins</th>\n",
       "      <td>26929</td>\n",
       "      <td>88852.5</td>\n",
       "      <td>2463125.0</td>\n",
       "    </tr>\n",
       "    <tr>\n",
       "      <th>Tostitos</th>\n",
       "      <td>18134</td>\n",
       "      <td>79789.6</td>\n",
       "      <td>1657425.0</td>\n",
       "    </tr>\n",
       "    <tr>\n",
       "      <th>Twisties</th>\n",
       "      <td>18118</td>\n",
       "      <td>81522.1</td>\n",
       "      <td>2489200.0</td>\n",
       "    </tr>\n",
       "    <tr>\n",
       "      <th>Tyrrells</th>\n",
       "      <td>12298</td>\n",
       "      <td>51647.4</td>\n",
       "      <td>1062930.0</td>\n",
       "    </tr>\n",
       "    <tr>\n",
       "      <th>WW</th>\n",
       "      <td>19461</td>\n",
       "      <td>35889.5</td>\n",
       "      <td>1873275.0</td>\n",
       "    </tr>\n",
       "    <tr>\n",
       "      <th>Woolworths</th>\n",
       "      <td>8395</td>\n",
       "      <td>13454.1</td>\n",
       "      <td>1164340.0</td>\n",
       "    </tr>\n",
       "  </tbody>\n",
       "</table>\n",
       "</div>"
      ],
      "text/plain": [
       "             Product_Quantity_Sum  Total_Sales_sum  PROD_SIZE_sum\n",
       "BRAND                                                            \n",
       "Burger                       2970           6831.0       344080.0\n",
       "CCs                          8609          18078.9       796425.0\n",
       "Cheetos                      5530          16884.5       519930.0\n",
       "Cheezels                     8747          40029.9      1220920.0\n",
       "Cobs                        18571          70569.8      1066230.0\n",
       "Doritos                     54216         241890.9      6194370.0\n",
       "French                       2643           7929.0       248150.0\n",
       "Grain                       11962          43048.8       665070.0\n",
       "GrnWves                      2764           8568.4       264240.0\n",
       "Infuzions                   27119          99047.6      1501830.0\n",
       "Kettle                      79051         390239.8      6619895.0\n",
       "Natural                     14106          42318.0      1307075.0\n",
       "Old El Paso                 17805          90785.1      2797200.0\n",
       "Pringles                    48019         177655.5      3363668.0\n",
       "Red                         33646          95046.0      2553255.0\n",
       "Smiths                      60339         224660.2      6737460.0\n",
       "Sunbites                     5692           9676.4       270720.0\n",
       "Thins                       26929          88852.5      2463125.0\n",
       "Tostitos                    18134          79789.6      1657425.0\n",
       "Twisties                    18118          81522.1      2489200.0\n",
       "Tyrrells                    12298          51647.4      1062930.0\n",
       "WW                          19461          35889.5      1873275.0\n",
       "Woolworths                   8395          13454.1      1164340.0"
      ]
     },
     "execution_count": 16,
     "metadata": {},
     "output_type": "execute_result"
    }
   ],
   "source": [
    "df_td_group=df_td.groupby(\"BRAND\")\n",
    "Prod_qty_sum=df_td_group.PROD_QTY.sum()\n",
    "Total_sales_sum=df_td_group.TOT_SALES.sum()\n",
    "PROD_SIZE_sum=df_td_group.PROD_SIZE.sum()\n",
    "\n",
    "df_td_sum=pd.DataFrame({\n",
    "    \"Product_Quantity_Sum\":Prod_qty_sum,\n",
    "    \"Total_Sales_sum\":Total_sales_sum,\n",
    "    \"PROD_SIZE_sum\":PROD_SIZE_sum\n",
    "    \n",
    "})\n",
    "\n",
    "df_td_sum"
   ]
  },
  {
   "cell_type": "code",
   "execution_count": 17,
   "id": "927fa8fe",
   "metadata": {},
   "outputs": [
    {
     "data": {
      "text/plain": [
       "<AxesSubplot:>"
      ]
     },
     "execution_count": 17,
     "metadata": {},
     "output_type": "execute_result"
    },
    {
     "data": {
      "image/png": "[encoded data removed]",
      "text/plain": [
       "<Figure size 640x480 with 1 Axes>"
      ]
     },
     "metadata": {},
     "output_type": "display_data"
    }
   ],
   "source": [
    "sns.heatmap(df_td.isnull(),yticklabels=False,cbar=False)"
   ]
  },
  {
   "cell_type": "code",
   "execution_count": 18,
   "id": "005b6edc",
   "metadata": {},
   "outputs": [],
   "source": [
    "df_td_corr=df_td.drop([\"PROD_NAME\",\"DATE\",\"BRAND\"],axis=1)"
   ]
  },
  {
   "cell_type": "code",
   "execution_count": 19,
   "id": "8974c17a",
   "metadata": {},
   "outputs": [
    {
     "data": {
      "text/html": [
       "<div>\n",
       "<style scoped>\n",
       "    .dataframe tbody tr th:only-of-type {\n",
       "        vertical-align: middle;\n",
       "    }\n",
       "\n",
       "    .dataframe tbody tr th {\n",
       "        vertical-align: top;\n",
       "    }\n",
       "\n",
       "    .dataframe thead th {\n",
       "        text-align: right;\n",
       "    }\n",
       "</style>\n",
       "<table border=\"1\" class=\"dataframe\">\n",
       "  <thead>\n",
       "    <tr style=\"text-align: right;\">\n",
       "      <th></th>\n",
       "      <th>STORE_NBR</th>\n",
       "      <th>LYLTY_CARD_NBR</th>\n",
       "      <th>TXN_ID</th>\n",
       "      <th>PROD_NBR</th>\n",
       "      <th>PROD_QTY</th>\n",
       "      <th>TOT_SALES</th>\n",
       "      <th>PROD_SIZE</th>\n",
       "    </tr>\n",
       "  </thead>\n",
       "  <tbody>\n",
       "    <tr>\n",
       "      <th>STORE_NBR</th>\n",
       "      <td>1.000000</td>\n",
       "      <td>0.950869</td>\n",
       "      <td>0.997593</td>\n",
       "      <td>0.002309</td>\n",
       "      <td>0.005295</td>\n",
       "      <td>0.003234</td>\n",
       "      <td>0.000309</td>\n",
       "    </tr>\n",
       "    <tr>\n",
       "      <th>LYLTY_CARD_NBR</th>\n",
       "      <td>0.950869</td>\n",
       "      <td>1.000000</td>\n",
       "      <td>0.954919</td>\n",
       "      <td>0.001755</td>\n",
       "      <td>0.003834</td>\n",
       "      <td>0.002908</td>\n",
       "      <td>0.000771</td>\n",
       "    </tr>\n",
       "    <tr>\n",
       "      <th>TXN_ID</th>\n",
       "      <td>0.997593</td>\n",
       "      <td>0.954919</td>\n",
       "      <td>1.000000</td>\n",
       "      <td>0.002544</td>\n",
       "      <td>0.005343</td>\n",
       "      <td>0.003468</td>\n",
       "      <td>0.000277</td>\n",
       "    </tr>\n",
       "    <tr>\n",
       "      <th>PROD_NBR</th>\n",
       "      <td>0.002309</td>\n",
       "      <td>0.001755</td>\n",
       "      <td>0.002544</td>\n",
       "      <td>1.000000</td>\n",
       "      <td>-0.004813</td>\n",
       "      <td>-0.133851</td>\n",
       "      <td>-0.231597</td>\n",
       "    </tr>\n",
       "    <tr>\n",
       "      <th>PROD_QTY</th>\n",
       "      <td>0.005295</td>\n",
       "      <td>0.003834</td>\n",
       "      <td>0.005343</td>\n",
       "      <td>-0.004813</td>\n",
       "      <td>1.000000</td>\n",
       "      <td>0.715307</td>\n",
       "      <td>0.008050</td>\n",
       "    </tr>\n",
       "    <tr>\n",
       "      <th>TOT_SALES</th>\n",
       "      <td>0.003234</td>\n",
       "      <td>0.002908</td>\n",
       "      <td>0.003468</td>\n",
       "      <td>-0.133851</td>\n",
       "      <td>0.715307</td>\n",
       "      <td>1.000000</td>\n",
       "      <td>0.308069</td>\n",
       "    </tr>\n",
       "    <tr>\n",
       "      <th>PROD_SIZE</th>\n",
       "      <td>0.000309</td>\n",
       "      <td>0.000771</td>\n",
       "      <td>0.000277</td>\n",
       "      <td>-0.231597</td>\n",
       "      <td>0.008050</td>\n",
       "      <td>0.308069</td>\n",
       "      <td>1.000000</td>\n",
       "    </tr>\n",
       "  </tbody>\n",
       "</table>\n",
       "</div>"
      ],
      "text/plain": [
       "                STORE_NBR  LYLTY_CARD_NBR    TXN_ID  PROD_NBR  PROD_QTY   \n",
       "STORE_NBR        1.000000        0.950869  0.997593  0.002309  0.005295  \\\n",
       "LYLTY_CARD_NBR   0.950869        1.000000  0.954919  0.001755  0.003834   \n",
       "TXN_ID           0.997593        0.954919  1.000000  0.002544  0.005343   \n",
       "PROD_NBR         0.002309        0.001755  0.002544  1.000000 -0.004813   \n",
       "PROD_QTY         0.005295        0.003834  0.005343 -0.004813  1.000000   \n",
       "TOT_SALES        0.003234        0.002908  0.003468 -0.133851  0.715307   \n",
       "PROD_SIZE        0.000309        0.000771  0.000277 -0.231597  0.008050   \n",
       "\n",
       "                TOT_SALES  PROD_SIZE  \n",
       "STORE_NBR        0.003234   0.000309  \n",
       "LYLTY_CARD_NBR   0.002908   0.000771  \n",
       "TXN_ID           0.003468   0.000277  \n",
       "PROD_NBR        -0.133851  -0.231597  \n",
       "PROD_QTY         0.715307   0.008050  \n",
       "TOT_SALES        1.000000   0.308069  \n",
       "PROD_SIZE        0.308069   1.000000  "
      ]
     },
     "execution_count": 19,
     "metadata": {},
     "output_type": "execute_result"
    }
   ],
   "source": [
    "df_td_corr.corr()"
   ]
  },
  {
   "cell_type": "code",
   "execution_count": 20,
   "id": "71e892e9",
   "metadata": {},
   "outputs": [
    {
     "data": {
      "text/plain": [
       "<AxesSubplot:>"
      ]
     },
     "execution_count": 20,
     "metadata": {},
     "output_type": "execute_result"
    },
    {
     "data": {
      "image/png": "[encoded data removed]",
      "text/plain": [
       "<Figure size 640x480 with 2 Axes>"
      ]
     },
     "metadata": {},
     "output_type": "display_data"
    }
   ],
   "source": [
    "sns.heatmap(df_td_corr.corr())"
   ]
  },
  {
   "cell_type": "code",
   "execution_count": 21,
   "id": "e53a468d",
   "metadata": {},
   "outputs": [],
   "source": [
    "df_td[\"PROD_SIZE\"]=df_td[\"PROD_SIZE\"].fillna(df_td[\"PROD_SIZE\"].mean())"
   ]
  },
  {
   "cell_type": "code",
   "execution_count": 22,
   "id": "7fe45eec",
   "metadata": {},
   "outputs": [
    {
     "data": {
      "text/plain": [
       "<AxesSubplot:xlabel='PROD_SIZE', ylabel='Count'>"
      ]
     },
     "execution_count": 22,
     "metadata": {},
     "output_type": "execute_result"
    },
    {
     "data": {
      "image/png": "[encoded data removed]",
      "text/plain": [
       "<Figure size 640x480 with 1 Axes>"
      ]
     },
     "metadata": {},
     "output_type": "display_data"
    }
   ],
   "source": [
    "sns.histplot(data=df_td,x=\"PROD_SIZE\",bins=30)"
   ]
  },
  {
   "cell_type": "code",
   "execution_count": 23,
   "id": "7daff5ab",
   "metadata": {},
   "outputs": [
    {
     "data": {
      "text/plain": [
       "<AxesSubplot:xlabel='TOT_SALES'>"
      ]
     },
     "execution_count": 23,
     "metadata": {},
     "output_type": "execute_result"
    },
    {
     "data": {
      "image/png": "[encoded data removed]",
      "text/plain": [
       "<Figure size 640x480 with 1 Axes>"
      ]
     },
     "metadata": {},
     "output_type": "display_data"
    }
   ],
   "source": [
    "sns.boxplot(data=df_td,x=\"TOT_SALES\")"
   ]
  },
  {
   "cell_type": "code",
   "execution_count": 24,
   "id": "cb5bd4ea",
   "metadata": {},
   "outputs": [
    {
     "data": {
      "text/plain": [
       "<AxesSubplot:xlabel='PROD_QTY'>"
      ]
     },
     "execution_count": 24,
     "metadata": {},
     "output_type": "execute_result"
    },
    {
     "data": {
      "image/png": "[encoded data removed]",
      "text/plain": [
       "<Figure size 640x480 with 1 Axes>"
      ]
     },
     "metadata": {},
     "output_type": "display_data"
    }
   ],
   "source": [
    "sns.boxplot(data=df_td,x=\"PROD_QTY\")"
   ]
  },
  {
   "cell_type": "code",
   "execution_count": 25,
   "id": "1648fd32",
   "metadata": {},
   "outputs": [
    {
     "name": "stdout",
     "output_type": "stream",
     "text": [
      "14.9 -0.3\n"
     ]
    }
   ],
   "source": [
    "# Remove OUtlier Based On Total Sales\n",
    "z=np.percentile(df_td[\"TOT_SALES\"],[25,75])\n",
    "IQR=z[1]-z[0]\n",
    "lower=z[0]-1.5*IQR\n",
    "upper=z[1]+1.5*IQR\n",
    "lower=np.round(lower,2)\n",
    "upper=np.round(upper,2)\n",
    "print(upper,lower)"
   ]
  },
  {
   "cell_type": "code",
   "execution_count": 27,
   "id": "5a6bd90e",
   "metadata": {},
   "outputs": [],
   "source": [
    "#outlier=df_td[(df_td[\"TOT_SALES\"]>upper) & (df_td[\"TOT_SALES\"]<lower) & (df_td[\"PROD_QTY\"] > 15) ].index\n",
    "#df_td=df_td.drop(outlier)\n",
    "\n",
    "outliers = df_td[(df_td[\"TOT_SALES\"] > upper)  & (df_td[\"PROD_QTY\"] > 15)].index\n",
    "df_td=df_td.drop(outliers)"
   ]
  },
  {
   "cell_type": "code",
   "execution_count": 28,
   "id": "94b02473",
   "metadata": {},
   "outputs": [
    {
     "data": {
      "text/html": [
       "<div>\n",
       "<style scoped>\n",
       "    .dataframe tbody tr th:only-of-type {\n",
       "        vertical-align: middle;\n",
       "    }\n",
       "\n",
       "    .dataframe tbody tr th {\n",
       "        vertical-align: top;\n",
       "    }\n",
       "\n",
       "    .dataframe thead th {\n",
       "        text-align: right;\n",
       "    }\n",
       "</style>\n",
       "<table border=\"1\" class=\"dataframe\">\n",
       "  <thead>\n",
       "    <tr style=\"text-align: right;\">\n",
       "      <th></th>\n",
       "      <th>DATE</th>\n",
       "      <th>STORE_NBR</th>\n",
       "      <th>LYLTY_CARD_NBR</th>\n",
       "      <th>TXN_ID</th>\n",
       "      <th>PROD_NBR</th>\n",
       "      <th>PROD_NAME</th>\n",
       "      <th>PROD_QTY</th>\n",
       "      <th>TOT_SALES</th>\n",
       "      <th>PROD_SIZE</th>\n",
       "      <th>BRAND</th>\n",
       "    </tr>\n",
       "  </thead>\n",
       "  <tbody>\n",
       "    <tr>\n",
       "      <th>0</th>\n",
       "      <td>2018-10-17</td>\n",
       "      <td>1</td>\n",
       "      <td>1000</td>\n",
       "      <td>1</td>\n",
       "      <td>5</td>\n",
       "      <td>Natural Chip        Compny SeaSalt</td>\n",
       "      <td>2</td>\n",
       "      <td>6.0</td>\n",
       "      <td>175.0</td>\n",
       "      <td>Natural</td>\n",
       "    </tr>\n",
       "    <tr>\n",
       "      <th>1</th>\n",
       "      <td>2019-05-14</td>\n",
       "      <td>1</td>\n",
       "      <td>1307</td>\n",
       "      <td>348</td>\n",
       "      <td>66</td>\n",
       "      <td>CCs Nacho Cheese</td>\n",
       "      <td>3</td>\n",
       "      <td>6.3</td>\n",
       "      <td>175.0</td>\n",
       "      <td>CCs</td>\n",
       "    </tr>\n",
       "    <tr>\n",
       "      <th>2</th>\n",
       "      <td>2019-05-20</td>\n",
       "      <td>1</td>\n",
       "      <td>1343</td>\n",
       "      <td>383</td>\n",
       "      <td>61</td>\n",
       "      <td>Smiths Crinkle Cut  Chips Chicken</td>\n",
       "      <td>2</td>\n",
       "      <td>2.9</td>\n",
       "      <td>170.0</td>\n",
       "      <td>Smiths</td>\n",
       "    </tr>\n",
       "    <tr>\n",
       "      <th>3</th>\n",
       "      <td>2018-08-17</td>\n",
       "      <td>2</td>\n",
       "      <td>2373</td>\n",
       "      <td>974</td>\n",
       "      <td>69</td>\n",
       "      <td>Smiths Chip Thinly  S/Cream&amp;Onion</td>\n",
       "      <td>5</td>\n",
       "      <td>15.0</td>\n",
       "      <td>175.0</td>\n",
       "      <td>Smiths</td>\n",
       "    </tr>\n",
       "    <tr>\n",
       "      <th>4</th>\n",
       "      <td>2018-08-18</td>\n",
       "      <td>2</td>\n",
       "      <td>2426</td>\n",
       "      <td>1038</td>\n",
       "      <td>108</td>\n",
       "      <td>Kettle Tortilla ChpsHny&amp;Jlpno Chili</td>\n",
       "      <td>3</td>\n",
       "      <td>13.8</td>\n",
       "      <td>150.0</td>\n",
       "      <td>Kettle</td>\n",
       "    </tr>\n",
       "    <tr>\n",
       "      <th>...</th>\n",
       "      <td>...</td>\n",
       "      <td>...</td>\n",
       "      <td>...</td>\n",
       "      <td>...</td>\n",
       "      <td>...</td>\n",
       "      <td>...</td>\n",
       "      <td>...</td>\n",
       "      <td>...</td>\n",
       "      <td>...</td>\n",
       "      <td>...</td>\n",
       "    </tr>\n",
       "    <tr>\n",
       "      <th>264831</th>\n",
       "      <td>2019-03-09</td>\n",
       "      <td>272</td>\n",
       "      <td>272319</td>\n",
       "      <td>270088</td>\n",
       "      <td>89</td>\n",
       "      <td>Kettle Sweet Chilli And Sour Cream</td>\n",
       "      <td>2</td>\n",
       "      <td>10.8</td>\n",
       "      <td>175.0</td>\n",
       "      <td>Kettle</td>\n",
       "    </tr>\n",
       "    <tr>\n",
       "      <th>264832</th>\n",
       "      <td>2018-08-13</td>\n",
       "      <td>272</td>\n",
       "      <td>272358</td>\n",
       "      <td>270154</td>\n",
       "      <td>74</td>\n",
       "      <td>Tostitos Splash Of  Lime</td>\n",
       "      <td>1</td>\n",
       "      <td>4.4</td>\n",
       "      <td>175.0</td>\n",
       "      <td>Tostitos</td>\n",
       "    </tr>\n",
       "    <tr>\n",
       "      <th>264833</th>\n",
       "      <td>2018-11-06</td>\n",
       "      <td>272</td>\n",
       "      <td>272379</td>\n",
       "      <td>270187</td>\n",
       "      <td>51</td>\n",
       "      <td>Doritos Mexicana</td>\n",
       "      <td>2</td>\n",
       "      <td>8.8</td>\n",
       "      <td>170.0</td>\n",
       "      <td>Doritos</td>\n",
       "    </tr>\n",
       "    <tr>\n",
       "      <th>264834</th>\n",
       "      <td>2018-12-27</td>\n",
       "      <td>272</td>\n",
       "      <td>272379</td>\n",
       "      <td>270188</td>\n",
       "      <td>42</td>\n",
       "      <td>Doritos Corn Chip Mexican Jalapeno</td>\n",
       "      <td>2</td>\n",
       "      <td>7.8</td>\n",
       "      <td>150.0</td>\n",
       "      <td>Doritos</td>\n",
       "    </tr>\n",
       "    <tr>\n",
       "      <th>264835</th>\n",
       "      <td>2018-09-22</td>\n",
       "      <td>272</td>\n",
       "      <td>272380</td>\n",
       "      <td>270189</td>\n",
       "      <td>74</td>\n",
       "      <td>Tostitos Splash Of  Lime</td>\n",
       "      <td>2</td>\n",
       "      <td>8.8</td>\n",
       "      <td>175.0</td>\n",
       "      <td>Tostitos</td>\n",
       "    </tr>\n",
       "  </tbody>\n",
       "</table>\n",
       "<p>264834 rows × 10 columns</p>\n",
       "</div>"
      ],
      "text/plain": [
       "             DATE  STORE_NBR  LYLTY_CARD_NBR  TXN_ID  PROD_NBR   \n",
       "0      2018-10-17          1            1000       1         5  \\\n",
       "1      2019-05-14          1            1307     348        66   \n",
       "2      2019-05-20          1            1343     383        61   \n",
       "3      2018-08-17          2            2373     974        69   \n",
       "4      2018-08-18          2            2426    1038       108   \n",
       "...           ...        ...             ...     ...       ...   \n",
       "264831 2019-03-09        272          272319  270088        89   \n",
       "264832 2018-08-13        272          272358  270154        74   \n",
       "264833 2018-11-06        272          272379  270187        51   \n",
       "264834 2018-12-27        272          272379  270188        42   \n",
       "264835 2018-09-22        272          272380  270189        74   \n",
       "\n",
       "                                  PROD_NAME  PROD_QTY  TOT_SALES  PROD_SIZE   \n",
       "0        Natural Chip        Compny SeaSalt         2        6.0      175.0  \\\n",
       "1                          CCs Nacho Cheese         3        6.3      175.0   \n",
       "2         Smiths Crinkle Cut  Chips Chicken         2        2.9      170.0   \n",
       "3         Smiths Chip Thinly  S/Cream&Onion         5       15.0      175.0   \n",
       "4       Kettle Tortilla ChpsHny&Jlpno Chili         3       13.8      150.0   \n",
       "...                                     ...       ...        ...        ...   \n",
       "264831   Kettle Sweet Chilli And Sour Cream         2       10.8      175.0   \n",
       "264832             Tostitos Splash Of  Lime         1        4.4      175.0   \n",
       "264833                     Doritos Mexicana         2        8.8      170.0   \n",
       "264834   Doritos Corn Chip Mexican Jalapeno         2        7.8      150.0   \n",
       "264835             Tostitos Splash Of  Lime         2        8.8      175.0   \n",
       "\n",
       "           BRAND  \n",
       "0        Natural  \n",
       "1            CCs  \n",
       "2         Smiths  \n",
       "3         Smiths  \n",
       "4         Kettle  \n",
       "...          ...  \n",
       "264831    Kettle  \n",
       "264832  Tostitos  \n",
       "264833   Doritos  \n",
       "264834   Doritos  \n",
       "264835  Tostitos  \n",
       "\n",
       "[264834 rows x 10 columns]"
      ]
     },
     "execution_count": 28,
     "metadata": {},
     "output_type": "execute_result"
    }
   ],
   "source": [
    "df_td"
   ]
  },
  {
   "cell_type": "code",
   "execution_count": 29,
   "id": "23515463",
   "metadata": {},
   "outputs": [
    {
     "data": {
      "text/plain": [
       "<AxesSubplot:xlabel='TOT_SALES'>"
      ]
     },
     "execution_count": 29,
     "metadata": {},
     "output_type": "execute_result"
    },
    {
     "data": {
      "image/png": "[encoded data removed]",
      "text/plain": [
       "<Figure size 640x480 with 1 Axes>"
      ]
     },
     "metadata": {},
     "output_type": "display_data"
    }
   ],
   "source": [
    "sns.boxplot(data=df_td,x=\"TOT_SALES\")"
   ]
  },
  {
   "cell_type": "code",
   "execution_count": 30,
   "id": "f7fd6e5f",
   "metadata": {},
   "outputs": [],
   "source": [
    "#Combine Two Data Frame Transaction and Personal Behaviour\n",
    "df=pd.merge(df_td,df_pb, on=\"LYLTY_CARD_NBR\")\n",
    "df=df.sort_values(\"DATE\")\n",
    "df=df.reset_index(drop=True)"
   ]
  },
  {
   "cell_type": "code",
   "execution_count": 31,
   "id": "dfc0a7c5",
   "metadata": {},
   "outputs": [],
   "source": [
    "import datetime as dt\n",
    "df['Month_Year'] = df['DATE'].dt.strftime('%m-%Y')\n",
    "df['Quarter'] = df['DATE'].dt.to_period('Q')\n",
    "df['Quarter'] = df['Quarter'].dt.to_timestamp()"
   ]
  },
  {
   "cell_type": "code",
   "execution_count": 32,
   "id": "d2f6afef",
   "metadata": {
    "scrolled": true
   },
   "outputs": [
    {
     "data": {
      "text/html": [
       "<div>\n",
       "<style scoped>\n",
       "    .dataframe tbody tr th:only-of-type {\n",
       "        vertical-align: middle;\n",
       "    }\n",
       "\n",
       "    .dataframe tbody tr th {\n",
       "        vertical-align: top;\n",
       "    }\n",
       "\n",
       "    .dataframe thead th {\n",
       "        text-align: right;\n",
       "    }\n",
       "</style>\n",
       "<table border=\"1\" class=\"dataframe\">\n",
       "  <thead>\n",
       "    <tr style=\"text-align: right;\">\n",
       "      <th></th>\n",
       "      <th>DATE</th>\n",
       "      <th>STORE_NBR</th>\n",
       "      <th>LYLTY_CARD_NBR</th>\n",
       "      <th>TXN_ID</th>\n",
       "      <th>PROD_NBR</th>\n",
       "      <th>PROD_NAME</th>\n",
       "      <th>PROD_QTY</th>\n",
       "      <th>TOT_SALES</th>\n",
       "      <th>PROD_SIZE</th>\n",
       "      <th>BRAND</th>\n",
       "      <th>LIFESTAGE</th>\n",
       "      <th>PREMIUM_CUSTOMER</th>\n",
       "      <th>Month_Year</th>\n",
       "      <th>Quarter</th>\n",
       "    </tr>\n",
       "  </thead>\n",
       "  <tbody>\n",
       "    <tr>\n",
       "      <th>0</th>\n",
       "      <td>2018-07-01</td>\n",
       "      <td>27</td>\n",
       "      <td>27181</td>\n",
       "      <td>24218</td>\n",
       "      <td>70</td>\n",
       "      <td>Tyrrells Crisps     Lightly Salted</td>\n",
       "      <td>2</td>\n",
       "      <td>8.4</td>\n",
       "      <td>165.0</td>\n",
       "      <td>Tyrrells</td>\n",
       "      <td>RETIREES</td>\n",
       "      <td>Budget</td>\n",
       "      <td>07-2018</td>\n",
       "      <td>2018-07-01</td>\n",
       "    </tr>\n",
       "    <tr>\n",
       "      <th>1</th>\n",
       "      <td>2018-07-01</td>\n",
       "      <td>191</td>\n",
       "      <td>191099</td>\n",
       "      <td>192367</td>\n",
       "      <td>103</td>\n",
       "      <td>RRD Steak &amp;         Chimuchurri</td>\n",
       "      <td>2</td>\n",
       "      <td>5.4</td>\n",
       "      <td>150.0</td>\n",
       "      <td>Red</td>\n",
       "      <td>YOUNG FAMILIES</td>\n",
       "      <td>Budget</td>\n",
       "      <td>07-2018</td>\n",
       "      <td>2018-07-01</td>\n",
       "    </tr>\n",
       "    <tr>\n",
       "      <th>2</th>\n",
       "      <td>2018-07-01</td>\n",
       "      <td>257</td>\n",
       "      <td>257010</td>\n",
       "      <td>255769</td>\n",
       "      <td>24</td>\n",
       "      <td>Grain Waves         Sweet Chilli</td>\n",
       "      <td>2</td>\n",
       "      <td>7.2</td>\n",
       "      <td>210.0</td>\n",
       "      <td>Grain</td>\n",
       "      <td>YOUNG FAMILIES</td>\n",
       "      <td>Premium</td>\n",
       "      <td>07-2018</td>\n",
       "      <td>2018-07-01</td>\n",
       "    </tr>\n",
       "    <tr>\n",
       "      <th>3</th>\n",
       "      <td>2018-07-01</td>\n",
       "      <td>48</td>\n",
       "      <td>48129</td>\n",
       "      <td>43842</td>\n",
       "      <td>114</td>\n",
       "      <td>Kettle Sensations   Siracha Lime</td>\n",
       "      <td>2</td>\n",
       "      <td>9.2</td>\n",
       "      <td>150.0</td>\n",
       "      <td>Kettle</td>\n",
       "      <td>OLDER FAMILIES</td>\n",
       "      <td>Mainstream</td>\n",
       "      <td>07-2018</td>\n",
       "      <td>2018-07-01</td>\n",
       "    </tr>\n",
       "  </tbody>\n",
       "</table>\n",
       "</div>"
      ],
      "text/plain": [
       "        DATE  STORE_NBR  LYLTY_CARD_NBR  TXN_ID  PROD_NBR   \n",
       "0 2018-07-01         27           27181   24218        70  \\\n",
       "1 2018-07-01        191          191099  192367       103   \n",
       "2 2018-07-01        257          257010  255769        24   \n",
       "3 2018-07-01         48           48129   43842       114   \n",
       "\n",
       "                            PROD_NAME  PROD_QTY  TOT_SALES  PROD_SIZE   \n",
       "0  Tyrrells Crisps     Lightly Salted         2        8.4      165.0  \\\n",
       "1     RRD Steak &         Chimuchurri         2        5.4      150.0   \n",
       "2    Grain Waves         Sweet Chilli         2        7.2      210.0   \n",
       "3    Kettle Sensations   Siracha Lime         2        9.2      150.0   \n",
       "\n",
       "      BRAND       LIFESTAGE PREMIUM_CUSTOMER Month_Year    Quarter  \n",
       "0  Tyrrells        RETIREES           Budget    07-2018 2018-07-01  \n",
       "1       Red  YOUNG FAMILIES           Budget    07-2018 2018-07-01  \n",
       "2     Grain  YOUNG FAMILIES          Premium    07-2018 2018-07-01  \n",
       "3    Kettle  OLDER FAMILIES       Mainstream    07-2018 2018-07-01  "
      ]
     },
     "execution_count": 32,
     "metadata": {},
     "output_type": "execute_result"
    }
   ],
   "source": [
    "df.head(4)"
   ]
  },
  {
   "cell_type": "code",
   "execution_count": 33,
   "id": "68f7dfba",
   "metadata": {},
   "outputs": [
    {
     "data": {
      "text/plain": [
       "<AxesSubplot:xlabel='BRAND', ylabel='TOT_SALES'>"
      ]
     },
     "execution_count": 33,
     "metadata": {},
     "output_type": "execute_result"
    },
    {
     "data": {
      "image/png": "[encoded data removed]",
      "text/plain": [
       "<Figure size 2000x600 with 1 Axes>"
      ]
     },
     "metadata": {},
     "output_type": "display_data"
    }
   ],
   "source": [
    "fig = plt.figure(figsize=(20, 6))\n",
    "sns.boxplot(data=df,y=\"TOT_SALES\",x=\"BRAND\")"
   ]
  },
  {
   "cell_type": "code",
   "execution_count": 34,
   "id": "4a0ea7b0",
   "metadata": {},
   "outputs": [
    {
     "data": {
      "text/plain": [
       "<AxesSubplot:xlabel='PROD_SIZE', ylabel='TOT_SALES'>"
      ]
     },
     "execution_count": 34,
     "metadata": {},
     "output_type": "execute_result"
    },
    {
     "data": {
      "image/png": "[encoded data removed]",
      "text/plain": [
       "<Figure size 3000x1000 with 1 Axes>"
      ]
     },
     "metadata": {},
     "output_type": "display_data"
    }
   ],
   "source": [
    "fig = plt.figure(figsize=(30, 10))\n",
    "sns.boxplot(data=df,x=\"PROD_SIZE\",y=\"TOT_SALES\")"
   ]
  },
  {
   "cell_type": "code",
   "execution_count": 35,
   "id": "732eb2ec",
   "metadata": {},
   "outputs": [],
   "source": [
    "values = df.values\n",
    "# Extract x and y values\n",
    "DATE = values[:,12]\n",
    "Quarter=values[:,13]\n",
    "TOT_SALES = values[:,7]"
   ]
  },
  {
   "cell_type": "code",
   "execution_count": 36,
   "id": "216394f7",
   "metadata": {},
   "outputs": [
    {
     "data": {
      "text/plain": [
       "array([[Timestamp('2018-07-01 00:00:00'), 27, 27181, ..., 'Budget',\n",
       "        '07-2018', Timestamp('2018-07-01 00:00:00')],\n",
       "       [Timestamp('2018-07-01 00:00:00'), 191, 191099, ..., 'Budget',\n",
       "        '07-2018', Timestamp('2018-07-01 00:00:00')],\n",
       "       [Timestamp('2018-07-01 00:00:00'), 257, 257010, ..., 'Premium',\n",
       "        '07-2018', Timestamp('2018-07-01 00:00:00')],\n",
       "       ...,\n",
       "       [Timestamp('2019-06-30 00:00:00'), 257, 257195, ..., 'Mainstream',\n",
       "        '06-2019', Timestamp('2019-04-01 00:00:00')],\n",
       "       [Timestamp('2019-06-30 00:00:00'), 45, 45057, ..., 'Premium',\n",
       "        '06-2019', Timestamp('2019-04-01 00:00:00')],\n",
       "       [Timestamp('2019-06-30 00:00:00'), 199, 199122, ..., 'Premium',\n",
       "        '06-2019', Timestamp('2019-04-01 00:00:00')]], dtype=object)"
      ]
     },
     "execution_count": 36,
     "metadata": {},
     "output_type": "execute_result"
    }
   ],
   "source": [
    "values"
   ]
  },
  {
   "cell_type": "code",
   "execution_count": 37,
   "id": "481c1509",
   "metadata": {},
   "outputs": [
    {
     "data": {
      "text/plain": [
       "array(['07-2018', '07-2018', '07-2018', ..., '06-2019', '06-2019',\n",
       "       '06-2019'], dtype=object)"
      ]
     },
     "execution_count": 37,
     "metadata": {},
     "output_type": "execute_result"
    }
   ],
   "source": [
    "DATE"
   ]
  },
  {
   "cell_type": "code",
   "execution_count": 38,
   "id": "ad6c0f71",
   "metadata": {},
   "outputs": [
    {
     "data": {
      "text/plain": [
       "array([8.4, 5.4, 7.2, ..., 3.8, 4.2, 7.8], dtype=object)"
      ]
     },
     "execution_count": 38,
     "metadata": {},
     "output_type": "execute_result"
    }
   ],
   "source": [
    "TOT_SALES"
   ]
  },
  {
   "cell_type": "code",
   "execution_count": 39,
   "id": "610d63c8",
   "metadata": {},
   "outputs": [
    {
     "data": {
      "image/png": "[encoded data removed]",
      "text/plain": [
       "<Figure size 640x480 with 1 Axes>"
      ]
     },
     "metadata": {},
     "output_type": "display_data"
    }
   ],
   "source": [
    "plt.plot(DATE, TOT_SALES)\n",
    "plt.xlabel('Year')\n",
    "plt.ylabel('Sales')\n",
    "plt.title('Sales Trend')\n",
    "plt.show()"
   ]
  },
  {
   "cell_type": "code",
   "execution_count": 40,
   "id": "a3e6a05e",
   "metadata": {},
   "outputs": [
    {
     "data": {
      "image/png": "[encoded data removed]",
      "text/plain": [
       "<Figure size 2000x600 with 1 Axes>"
      ]
     },
     "metadata": {},
     "output_type": "display_data"
    }
   ],
   "source": [
    "plt.figure(figsize=(20, 6))\n",
    "plt.plot(Quarter, TOT_SALES)\n",
    "plt.xlabel('Quarter and Year')\n",
    "plt.ylabel('Sales')\n",
    "plt.title('Sales Trend')\n",
    "plt.show()"
   ]
  },
  {
   "cell_type": "code",
   "execution_count": 41,
   "id": "6e200316",
   "metadata": {},
   "outputs": [
    {
     "data": {
      "text/html": [
       "<div>\n",
       "<style scoped>\n",
       "    .dataframe tbody tr th:only-of-type {\n",
       "        vertical-align: middle;\n",
       "    }\n",
       "\n",
       "    .dataframe tbody tr th {\n",
       "        vertical-align: top;\n",
       "    }\n",
       "\n",
       "    .dataframe thead th {\n",
       "        text-align: right;\n",
       "    }\n",
       "</style>\n",
       "<table border=\"1\" class=\"dataframe\">\n",
       "  <thead>\n",
       "    <tr style=\"text-align: right;\">\n",
       "      <th></th>\n",
       "      <th></th>\n",
       "      <th>TOT_SALES</th>\n",
       "    </tr>\n",
       "    <tr>\n",
       "      <th>LIFESTAGE</th>\n",
       "      <th>PREMIUM_CUSTOMER</th>\n",
       "      <th></th>\n",
       "    </tr>\n",
       "  </thead>\n",
       "  <tbody>\n",
       "    <tr>\n",
       "      <th>OLDER FAMILIES</th>\n",
       "      <th>Budget</th>\n",
       "      <td>168363.25</td>\n",
       "    </tr>\n",
       "    <tr>\n",
       "      <th>YOUNG SINGLES/COUPLES</th>\n",
       "      <th>Mainstream</th>\n",
       "      <td>157621.60</td>\n",
       "    </tr>\n",
       "    <tr>\n",
       "      <th>RETIREES</th>\n",
       "      <th>Mainstream</th>\n",
       "      <td>155677.05</td>\n",
       "    </tr>\n",
       "    <tr>\n",
       "      <th>YOUNG FAMILIES</th>\n",
       "      <th>Budget</th>\n",
       "      <td>139345.85</td>\n",
       "    </tr>\n",
       "    <tr>\n",
       "      <th rowspan=\"3\" valign=\"top\">OLDER SINGLES/COUPLES</th>\n",
       "      <th>Budget</th>\n",
       "      <td>136769.80</td>\n",
       "    </tr>\n",
       "    <tr>\n",
       "      <th>Mainstream</th>\n",
       "      <td>133393.80</td>\n",
       "    </tr>\n",
       "    <tr>\n",
       "      <th>Premium</th>\n",
       "      <td>132263.15</td>\n",
       "    </tr>\n",
       "    <tr>\n",
       "      <th>RETIREES</th>\n",
       "      <th>Budget</th>\n",
       "      <td>113147.80</td>\n",
       "    </tr>\n",
       "    <tr>\n",
       "      <th>OLDER FAMILIES</th>\n",
       "      <th>Mainstream</th>\n",
       "      <td>103445.55</td>\n",
       "    </tr>\n",
       "    <tr>\n",
       "      <th>RETIREES</th>\n",
       "      <th>Premium</th>\n",
       "      <td>97646.05</td>\n",
       "    </tr>\n",
       "    <tr>\n",
       "      <th>YOUNG FAMILIES</th>\n",
       "      <th>Mainstream</th>\n",
       "      <td>92788.75</td>\n",
       "    </tr>\n",
       "    <tr>\n",
       "      <th>MIDAGE SINGLES/COUPLES</th>\n",
       "      <th>Mainstream</th>\n",
       "      <td>90803.85</td>\n",
       "    </tr>\n",
       "    <tr>\n",
       "      <th>YOUNG FAMILIES</th>\n",
       "      <th>Premium</th>\n",
       "      <td>84025.50</td>\n",
       "    </tr>\n",
       "    <tr>\n",
       "      <th>OLDER FAMILIES</th>\n",
       "      <th>Premium</th>\n",
       "      <td>80658.40</td>\n",
       "    </tr>\n",
       "    <tr>\n",
       "      <th>YOUNG SINGLES/COUPLES</th>\n",
       "      <th>Budget</th>\n",
       "      <td>61141.60</td>\n",
       "    </tr>\n",
       "    <tr>\n",
       "      <th>MIDAGE SINGLES/COUPLES</th>\n",
       "      <th>Premium</th>\n",
       "      <td>58432.65</td>\n",
       "    </tr>\n",
       "    <tr>\n",
       "      <th>YOUNG SINGLES/COUPLES</th>\n",
       "      <th>Premium</th>\n",
       "      <td>41642.10</td>\n",
       "    </tr>\n",
       "    <tr>\n",
       "      <th>MIDAGE SINGLES/COUPLES</th>\n",
       "      <th>Budget</th>\n",
       "      <td>35514.80</td>\n",
       "    </tr>\n",
       "    <tr>\n",
       "      <th rowspan=\"3\" valign=\"top\">NEW FAMILIES</th>\n",
       "      <th>Budget</th>\n",
       "      <td>21928.45</td>\n",
       "    </tr>\n",
       "    <tr>\n",
       "      <th>Mainstream</th>\n",
       "      <td>17013.90</td>\n",
       "    </tr>\n",
       "    <tr>\n",
       "      <th>Premium</th>\n",
       "      <td>11491.10</td>\n",
       "    </tr>\n",
       "  </tbody>\n",
       "</table>\n",
       "</div>"
      ],
      "text/plain": [
       "                                         TOT_SALES\n",
       "LIFESTAGE              PREMIUM_CUSTOMER           \n",
       "OLDER FAMILIES         Budget            168363.25\n",
       "YOUNG SINGLES/COUPLES  Mainstream        157621.60\n",
       "RETIREES               Mainstream        155677.05\n",
       "YOUNG FAMILIES         Budget            139345.85\n",
       "OLDER SINGLES/COUPLES  Budget            136769.80\n",
       "                       Mainstream        133393.80\n",
       "                       Premium           132263.15\n",
       "RETIREES               Budget            113147.80\n",
       "OLDER FAMILIES         Mainstream        103445.55\n",
       "RETIREES               Premium            97646.05\n",
       "YOUNG FAMILIES         Mainstream         92788.75\n",
       "MIDAGE SINGLES/COUPLES Mainstream         90803.85\n",
       "YOUNG FAMILIES         Premium            84025.50\n",
       "OLDER FAMILIES         Premium            80658.40\n",
       "YOUNG SINGLES/COUPLES  Budget             61141.60\n",
       "MIDAGE SINGLES/COUPLES Premium            58432.65\n",
       "YOUNG SINGLES/COUPLES  Premium            41642.10\n",
       "MIDAGE SINGLES/COUPLES Budget             35514.80\n",
       "NEW FAMILIES           Budget             21928.45\n",
       "                       Mainstream         17013.90\n",
       "                       Premium            11491.10"
      ]
     },
     "execution_count": 41,
     "metadata": {},
     "output_type": "execute_result"
    }
   ],
   "source": [
    "df1=df[['LIFESTAGE','PREMIUM_CUSTOMER','TOT_SALES']].groupby(['LIFESTAGE','PREMIUM_CUSTOMER']).sum()\n",
    "df1.sort_values('TOT_SALES',ascending=False)"
   ]
  },
  {
   "cell_type": "code",
   "execution_count": 42,
   "id": "9252c461",
   "metadata": {},
   "outputs": [
    {
     "data": {
      "text/plain": [
       "<AxesSubplot:xlabel='LIFESTAGE', ylabel='TOT_SALES'>"
      ]
     },
     "execution_count": 42,
     "metadata": {},
     "output_type": "execute_result"
    },
    {
     "data": {
      "image/png": "[encoded data removed]",
      "text/plain": [
       "<Figure size 2000x600 with 1 Axes>"
      ]
     },
     "metadata": {},
     "output_type": "display_data"
    }
   ],
   "source": [
    "fig = plt.figure(figsize=(20, 6))\n",
    "sns.barplot(x=df1.reset_index()[\"LIFESTAGE\"],hue=df1.reset_index()[\"PREMIUM_CUSTOMER\"],y=df1.reset_index()[\"TOT_SALES\"])"
   ]
  },
  {
   "cell_type": "code",
   "execution_count": 43,
   "id": "610ca018",
   "metadata": {},
   "outputs": [
    {
     "data": {
      "text/html": [
       "<div>\n",
       "<style scoped>\n",
       "    .dataframe tbody tr th:only-of-type {\n",
       "        vertical-align: middle;\n",
       "    }\n",
       "\n",
       "    .dataframe tbody tr th {\n",
       "        vertical-align: top;\n",
       "    }\n",
       "\n",
       "    .dataframe thead th {\n",
       "        text-align: right;\n",
       "    }\n",
       "</style>\n",
       "<table border=\"1\" class=\"dataframe\">\n",
       "  <thead>\n",
       "    <tr style=\"text-align: right;\">\n",
       "      <th></th>\n",
       "      <th></th>\n",
       "      <th>Customer_Count</th>\n",
       "    </tr>\n",
       "    <tr>\n",
       "      <th>LIFESTAGE</th>\n",
       "      <th>PREMIUM_CUSTOMER</th>\n",
       "      <th></th>\n",
       "    </tr>\n",
       "  </thead>\n",
       "  <tbody>\n",
       "    <tr>\n",
       "      <th>YOUNG SINGLES/COUPLES</th>\n",
       "      <th>Mainstream</th>\n",
       "      <td>8088</td>\n",
       "    </tr>\n",
       "    <tr>\n",
       "      <th>RETIREES</th>\n",
       "      <th>Mainstream</th>\n",
       "      <td>6479</td>\n",
       "    </tr>\n",
       "    <tr>\n",
       "      <th rowspan=\"3\" valign=\"top\">OLDER SINGLES/COUPLES</th>\n",
       "      <th>Mainstream</th>\n",
       "      <td>4930</td>\n",
       "    </tr>\n",
       "    <tr>\n",
       "      <th>Budget</th>\n",
       "      <td>4929</td>\n",
       "    </tr>\n",
       "    <tr>\n",
       "      <th>Premium</th>\n",
       "      <td>4750</td>\n",
       "    </tr>\n",
       "    <tr>\n",
       "      <th>OLDER FAMILIES</th>\n",
       "      <th>Budget</th>\n",
       "      <td>4675</td>\n",
       "    </tr>\n",
       "    <tr>\n",
       "      <th>RETIREES</th>\n",
       "      <th>Budget</th>\n",
       "      <td>4454</td>\n",
       "    </tr>\n",
       "    <tr>\n",
       "      <th>YOUNG FAMILIES</th>\n",
       "      <th>Budget</th>\n",
       "      <td>4017</td>\n",
       "    </tr>\n",
       "    <tr>\n",
       "      <th>RETIREES</th>\n",
       "      <th>Premium</th>\n",
       "      <td>3872</td>\n",
       "    </tr>\n",
       "    <tr>\n",
       "      <th>YOUNG SINGLES/COUPLES</th>\n",
       "      <th>Budget</th>\n",
       "      <td>3779</td>\n",
       "    </tr>\n",
       "    <tr>\n",
       "      <th>MIDAGE SINGLES/COUPLES</th>\n",
       "      <th>Mainstream</th>\n",
       "      <td>3340</td>\n",
       "    </tr>\n",
       "    <tr>\n",
       "      <th>OLDER FAMILIES</th>\n",
       "      <th>Mainstream</th>\n",
       "      <td>2831</td>\n",
       "    </tr>\n",
       "    <tr>\n",
       "      <th>YOUNG FAMILIES</th>\n",
       "      <th>Mainstream</th>\n",
       "      <td>2728</td>\n",
       "    </tr>\n",
       "    <tr>\n",
       "      <th>YOUNG SINGLES/COUPLES</th>\n",
       "      <th>Premium</th>\n",
       "      <td>2574</td>\n",
       "    </tr>\n",
       "    <tr>\n",
       "      <th>YOUNG FAMILIES</th>\n",
       "      <th>Premium</th>\n",
       "      <td>2433</td>\n",
       "    </tr>\n",
       "    <tr>\n",
       "      <th>MIDAGE SINGLES/COUPLES</th>\n",
       "      <th>Premium</th>\n",
       "      <td>2431</td>\n",
       "    </tr>\n",
       "    <tr>\n",
       "      <th>OLDER FAMILIES</th>\n",
       "      <th>Premium</th>\n",
       "      <td>2274</td>\n",
       "    </tr>\n",
       "    <tr>\n",
       "      <th>MIDAGE SINGLES/COUPLES</th>\n",
       "      <th>Budget</th>\n",
       "      <td>1504</td>\n",
       "    </tr>\n",
       "    <tr>\n",
       "      <th rowspan=\"3\" valign=\"top\">NEW FAMILIES</th>\n",
       "      <th>Budget</th>\n",
       "      <td>1112</td>\n",
       "    </tr>\n",
       "    <tr>\n",
       "      <th>Mainstream</th>\n",
       "      <td>849</td>\n",
       "    </tr>\n",
       "    <tr>\n",
       "      <th>Premium</th>\n",
       "      <td>588</td>\n",
       "    </tr>\n",
       "  </tbody>\n",
       "</table>\n",
       "</div>"
      ],
      "text/plain": [
       "                                         Customer_Count\n",
       "LIFESTAGE              PREMIUM_CUSTOMER                \n",
       "YOUNG SINGLES/COUPLES  Mainstream                  8088\n",
       "RETIREES               Mainstream                  6479\n",
       "OLDER SINGLES/COUPLES  Mainstream                  4930\n",
       "                       Budget                      4929\n",
       "                       Premium                     4750\n",
       "OLDER FAMILIES         Budget                      4675\n",
       "RETIREES               Budget                      4454\n",
       "YOUNG FAMILIES         Budget                      4017\n",
       "RETIREES               Premium                     3872\n",
       "YOUNG SINGLES/COUPLES  Budget                      3779\n",
       "MIDAGE SINGLES/COUPLES Mainstream                  3340\n",
       "OLDER FAMILIES         Mainstream                  2831\n",
       "YOUNG FAMILIES         Mainstream                  2728\n",
       "YOUNG SINGLES/COUPLES  Premium                     2574\n",
       "YOUNG FAMILIES         Premium                     2433\n",
       "MIDAGE SINGLES/COUPLES Premium                     2431\n",
       "OLDER FAMILIES         Premium                     2274\n",
       "MIDAGE SINGLES/COUPLES Budget                      1504\n",
       "NEW FAMILIES           Budget                      1112\n",
       "                       Mainstream                   849\n",
       "                       Premium                      588"
      ]
     },
     "execution_count": 43,
     "metadata": {},
     "output_type": "execute_result"
    }
   ],
   "source": [
    "df2=df_pb.groupby(['LIFESTAGE','PREMIUM_CUSTOMER']).count()\n",
    "df2.columns=['Customer_Count']\n",
    "df2.sort_values('Customer_Count',ascending=False)"
   ]
  },
  {
   "cell_type": "code",
   "execution_count": 44,
   "id": "9a7aa46b",
   "metadata": {},
   "outputs": [
    {
     "data": {
      "text/plain": [
       "<AxesSubplot:xlabel='LIFESTAGE', ylabel='Customer_Count'>"
      ]
     },
     "execution_count": 44,
     "metadata": {},
     "output_type": "execute_result"
    },
    {
     "data": {
      "image/png": "[encoded data removed]",
      "text/plain": [
       "<Figure size 2000x600 with 1 Axes>"
      ]
     },
     "metadata": {},
     "output_type": "display_data"
    }
   ],
   "source": [
    "fig = plt.figure(figsize=(20, 6))\n",
    "sns.barplot(x=df2.reset_index()[\"LIFESTAGE\"],hue=df2.reset_index()[\"PREMIUM_CUSTOMER\"],y=df2.reset_index()[\"Customer_Count\"])"
   ]
  },
  {
   "cell_type": "code",
   "execution_count": 45,
   "id": "dd739c12",
   "metadata": {},
   "outputs": [
    {
     "data": {
      "text/html": [
       "<div>\n",
       "<style scoped>\n",
       "    .dataframe tbody tr th:only-of-type {\n",
       "        vertical-align: middle;\n",
       "    }\n",
       "\n",
       "    .dataframe tbody tr th {\n",
       "        vertical-align: top;\n",
       "    }\n",
       "\n",
       "    .dataframe thead th {\n",
       "        text-align: right;\n",
       "    }\n",
       "</style>\n",
       "<table border=\"1\" class=\"dataframe\">\n",
       "  <thead>\n",
       "    <tr style=\"text-align: right;\">\n",
       "      <th></th>\n",
       "      <th></th>\n",
       "      <th>CHIP_PRICE</th>\n",
       "    </tr>\n",
       "    <tr>\n",
       "      <th>PREMIUM_CUSTOMER</th>\n",
       "      <th>LIFESTAGE</th>\n",
       "      <th></th>\n",
       "    </tr>\n",
       "  </thead>\n",
       "  <tbody>\n",
       "    <tr>\n",
       "      <th rowspan=\"2\" valign=\"top\">Mainstream</th>\n",
       "      <th>YOUNG SINGLES/COUPLES</th>\n",
       "      <td>4.071485</td>\n",
       "    </tr>\n",
       "    <tr>\n",
       "      <th>MIDAGE SINGLES/COUPLES</th>\n",
       "      <td>4.000101</td>\n",
       "    </tr>\n",
       "    <tr>\n",
       "      <th>Budget</th>\n",
       "      <th>RETIREES</th>\n",
       "      <td>3.924883</td>\n",
       "    </tr>\n",
       "    <tr>\n",
       "      <th>Premium</th>\n",
       "      <th>RETIREES</th>\n",
       "      <td>3.921323</td>\n",
       "    </tr>\n",
       "    <tr>\n",
       "      <th>Budget</th>\n",
       "      <th>NEW FAMILIES</th>\n",
       "      <td>3.919251</td>\n",
       "    </tr>\n",
       "    <tr>\n",
       "      <th>Mainstream</th>\n",
       "      <th>NEW FAMILIES</th>\n",
       "      <td>3.916581</td>\n",
       "    </tr>\n",
       "    <tr>\n",
       "      <th>Premium</th>\n",
       "      <th>OLDER SINGLES/COUPLES</th>\n",
       "      <td>3.887220</td>\n",
       "    </tr>\n",
       "    <tr>\n",
       "      <th>Budget</th>\n",
       "      <th>OLDER SINGLES/COUPLES</th>\n",
       "      <td>3.877022</td>\n",
       "    </tr>\n",
       "    <tr>\n",
       "      <th>Premium</th>\n",
       "      <th>NEW FAMILIES</th>\n",
       "      <td>3.871743</td>\n",
       "    </tr>\n",
       "    <tr>\n",
       "      <th rowspan=\"2\" valign=\"top\">Mainstream</th>\n",
       "      <th>RETIREES</th>\n",
       "      <td>3.833343</td>\n",
       "    </tr>\n",
       "    <tr>\n",
       "      <th>OLDER SINGLES/COUPLES</th>\n",
       "      <td>3.803800</td>\n",
       "    </tr>\n",
       "    <tr>\n",
       "      <th>Budget</th>\n",
       "      <th>YOUNG FAMILIES</th>\n",
       "      <td>3.753659</td>\n",
       "    </tr>\n",
       "    <tr>\n",
       "      <th rowspan=\"2\" valign=\"top\">Premium</th>\n",
       "      <th>MIDAGE SINGLES/COUPLES</th>\n",
       "      <td>3.752915</td>\n",
       "    </tr>\n",
       "    <tr>\n",
       "      <th>YOUNG FAMILIES</th>\n",
       "      <td>3.752402</td>\n",
       "    </tr>\n",
       "    <tr>\n",
       "      <th rowspan=\"2\" valign=\"top\">Budget</th>\n",
       "      <th>OLDER FAMILIES</th>\n",
       "      <td>3.733344</td>\n",
       "    </tr>\n",
       "    <tr>\n",
       "      <th>MIDAGE SINGLES/COUPLES</th>\n",
       "      <td>3.728496</td>\n",
       "    </tr>\n",
       "    <tr>\n",
       "      <th rowspan=\"2\" valign=\"top\">Mainstream</th>\n",
       "      <th>OLDER FAMILIES</th>\n",
       "      <td>3.727383</td>\n",
       "    </tr>\n",
       "    <tr>\n",
       "      <th>YOUNG FAMILIES</th>\n",
       "      <td>3.707097</td>\n",
       "    </tr>\n",
       "    <tr>\n",
       "      <th rowspan=\"2\" valign=\"top\">Premium</th>\n",
       "      <th>OLDER FAMILIES</th>\n",
       "      <td>3.704625</td>\n",
       "    </tr>\n",
       "    <tr>\n",
       "      <th>YOUNG SINGLES/COUPLES</th>\n",
       "      <td>3.645518</td>\n",
       "    </tr>\n",
       "    <tr>\n",
       "      <th>Budget</th>\n",
       "      <th>YOUNG SINGLES/COUPLES</th>\n",
       "      <td>3.637681</td>\n",
       "    </tr>\n",
       "  </tbody>\n",
       "</table>\n",
       "</div>"
      ],
      "text/plain": [
       "                                         CHIP_PRICE\n",
       "PREMIUM_CUSTOMER LIFESTAGE                         \n",
       "Mainstream       YOUNG SINGLES/COUPLES     4.071485\n",
       "                 MIDAGE SINGLES/COUPLES    4.000101\n",
       "Budget           RETIREES                  3.924883\n",
       "Premium          RETIREES                  3.921323\n",
       "Budget           NEW FAMILIES              3.919251\n",
       "Mainstream       NEW FAMILIES              3.916581\n",
       "Premium          OLDER SINGLES/COUPLES     3.887220\n",
       "Budget           OLDER SINGLES/COUPLES     3.877022\n",
       "Premium          NEW FAMILIES              3.871743\n",
       "Mainstream       RETIREES                  3.833343\n",
       "                 OLDER SINGLES/COUPLES     3.803800\n",
       "Budget           YOUNG FAMILIES            3.753659\n",
       "Premium          MIDAGE SINGLES/COUPLES    3.752915\n",
       "                 YOUNG FAMILIES            3.752402\n",
       "Budget           OLDER FAMILIES            3.733344\n",
       "                 MIDAGE SINGLES/COUPLES    3.728496\n",
       "Mainstream       OLDER FAMILIES            3.727383\n",
       "                 YOUNG FAMILIES            3.707097\n",
       "Premium          OLDER FAMILIES            3.704625\n",
       "                 YOUNG SINGLES/COUPLES     3.645518\n",
       "Budget           YOUNG SINGLES/COUPLES     3.637681"
      ]
     },
     "execution_count": 45,
     "metadata": {},
     "output_type": "execute_result"
    }
   ],
   "source": [
    "df['CHIP_PRICE']=df['TOT_SALES']/df['PROD_QTY']\n",
    "df3=df[['LIFESTAGE','PREMIUM_CUSTOMER','CHIP_PRICE']].groupby(['PREMIUM_CUSTOMER','LIFESTAGE']).mean()\n",
    "df3.sort_values('CHIP_PRICE',ascending=False)"
   ]
  },
  {
   "cell_type": "code",
   "execution_count": 46,
   "id": "4f679385",
   "metadata": {},
   "outputs": [],
   "source": [
    "df.to_csv(\"D:\\\\Projects\\\\Quantium\\\\QVI.csv\")"
   ]
  },
  {
   "cell_type": "code",
   "execution_count": null,
   "id": "a3f9159c",
   "metadata": {},
   "outputs": [],
   "source": []
  }
 ],
 "metadata": {
  "kernelspec": {
   "display_name": "Python 3 (ipykernel)",
   "language": "python",
   "name": "python3"
  },
  "language_info": {
   "codemirror_mode": {
    "name": "ipython",
    "version": 3
   },
   "file_extension": ".py",
   "mimetype": "text/x-python",
   "name": "python",
   "nbconvert_exporter": "python",
   "pygments_lexer": "ipython3",
   "version": "3.10.1"
  }
 },
 "nbformat": 4,
 "nbformat_minor": 5
}
